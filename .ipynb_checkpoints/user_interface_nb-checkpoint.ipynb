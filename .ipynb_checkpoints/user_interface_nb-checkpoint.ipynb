{
 "cells": [
  {
   "cell_type": "markdown",
   "id": "955a3044",
   "metadata": {},
   "source": [
    "# USER INTERFACE\n",
    "Implementation of the jupyter notebook instead of the user_interface used in the previous assignments. The notebook includes various features:\n",
    "- start the robot with different behaviours: random or custom controlled;\n",
    "- change the speed of the robot, both the linear one and the angular one;\n",
    "- change the direction of the robot' directional motion.\n",
    "\n",
    "There are also various graphs included in the notebook:\n",
    "- robot's linear and angular speed (the input one and the actual one);\n",
    "- number of reached and interrupted goals;\n",
    "- time elapsed to reach every goal;\n",
    "- robot's position and orientation.\n",
    "\n",
    "# CODE\n",
    "\n",
    "## Libraries\n",
    "The first block is where the necessary libraries have been imported:"
   ]
  },
  {
   "cell_type": "code",
   "execution_count": 1,
   "id": "db415da4",
   "metadata": {},
   "outputs": [],
   "source": [
    "\n",
    "import rospy\n",
    "import time\n",
    "import jupyros as jr\n",
    "import matplotlib\n",
    "import ipywidgets as widgets\n",
    "import matplotlib.pyplot as plt\n",
    "import numpy as np\n",
    "import math\n",
    "import actionlib\n",
    "import actionlib.msg\n",
    "\n",
    "%matplotlib widget\n",
    "\n",
    "from matplotlib.animation import FuncAnimation\n",
    "from nav_msgs.msg import Odometry\n",
    "from matplotlib import animation, rc\n",
    "from std_msgs.msg import String, Float64, Bool, Float32\n",
    "from rt2_assignment1.srv import Command\n",
    "from ipywidgets import interact,interactive,fixed,interact_manual\n",
    "from geometry_msgs.msg import Twist"
   ]
  },
  {
   "cell_type": "markdown",
   "id": "bdca82ef",
   "metadata": {},
   "source": [
    "## ROS initialization and Global variables\n",
    "In this block we initialiaze the ros node (user_interface), the service client (/user_interface), two publishers(/vel and /cmd_vel) and the global variables."
   ]
  },
  {
   "cell_type": "code",
   "execution_count": 2,
   "id": "eaa217e7",
   "metadata": {},
   "outputs": [],
   "source": [
    "rospy.init_node('user_interface')\n",
    "client=rospy.ServiceProxy('/user_interface', Command)\n",
    "vel_p = rospy.Publisher('/vel', Twist, queue_size = 1)\n",
    "com_p = rospy.Publisher('/cmd_vel', Twist, queue_size = 1)\n",
    "vel = Twist()\n",
    "speed = Twist()\n",
    "start = time.time()\n",
    "t = []\n",
    "t1 = []\n",
    "x = []\n",
    "y = []\n",
    "linear_vel = []\n",
    "angular_vel = []\n",
    "linear_speed = []\n",
    "angular_speed = []\n",
    "cycles_interrupt = [0,0]\n",
    "vel_lin = 0\n",
    "vel_ang = 0\n",
    "check_random = False\n",
    "reached=0\n",
    "interrupted=0"
   ]
  },
  {
   "cell_type": "markdown",
   "id": "00a0a297",
   "metadata": {},
   "source": [
    "## Interactive interface\n",
    "### Code functions associated to the buttons \n",
    "In this block we define and write the functions and thev code that stands behind the interactive buttons used by the user."
   ]
  },
  {
   "cell_type": "code",
   "execution_count": 3,
   "id": "7b73fa2d",
   "metadata": {},
   "outputs": [],
   "source": [
    "# Random behaviour start\n",
    "def Start_RB(p):\n",
    "    global check_random\n",
    "    check_random = True\n",
    "    client('start')\n",
    "\n",
    "# Random behaviour stop\n",
    "def Stop_RB(p):\n",
    "    global check_random\n",
    "    check_random = False\n",
    "    client('stop')\n",
    "\n",
    "# To move ahead\n",
    "def Straight(p):\n",
    "    global check_random, speed, vel\n",
    "    if check_random:\n",
    "        check_random = False\n",
    "        client('stop')\n",
    "    Stop(1)\n",
    "    vel.linear.x = speed.linear.x\n",
    "\n",
    "    com_p.publish(vel)\n",
    "\n",
    "# To move back\n",
    "def Back(p):\n",
    "    global check_random, speed, vel\n",
    "    if check_random:\n",
    "        check_random = False\n",
    "        client('stop')\n",
    "    Stop(1)\n",
    "    vel.linear.x = - speed.linear.x\n",
    "\n",
    "    com_p.publish(vel)\n",
    "\n",
    "# To move left\n",
    "def Left(p):\n",
    "    global check_random, speed, vel\n",
    "    if check_random:\n",
    "        check_random = False\n",
    "        client('stop')\n",
    "    Stop(1)\n",
    "    vel.angular.z = - speed.angular.z\n",
    "\n",
    "    com_p.publish(vel)\n",
    "\n",
    "# To move right\n",
    "def Right(p):\n",
    "    global check_random, speed, vel\n",
    "    if check_random:\n",
    "        check_random = False\n",
    "        client('stop')\n",
    "    Stop(1)\n",
    "    vel.angular.z = speed.angular.z\n",
    "\n",
    "    com_p.publish(vel)\n",
    "\n",
    "# To stop\n",
    "def Stop(p):\n",
    "    vel.linear.x = 0\n",
    "    vel.angular.z = 0\n",
    "    com_p.publish(vel)\n",
    "\n",
    "# To set linear vel\n",
    "def Set_lin_vel(vel):\n",
    "    global speed\n",
    "    speed.linear.x = vel\n",
    "    vel_p.publish(speed)\n",
    "    return vel\n",
    "\n",
    "# To set angular vel\n",
    "def Set_ang_vel(vel):\n",
    "    global speed\n",
    "    speed.angular.z = vel\n",
    "    vel_p.publish(speed)\n",
    "    return vel"
   ]
  },
  {
   "cell_type": "markdown",
   "id": "89b36477",
   "metadata": {},
   "source": [
    "### Buttons style\n",
    "In this block we choose the name of the buttons and the we manage the style part of each one."
   ]
  },
  {
   "cell_type": "code",
   "execution_count": 4,
   "id": "198adcc6",
   "metadata": {},
   "outputs": [],
   "source": [
    "# Button starting the random behaviour\n",
    "RB_Start=widgets.Button(\n",
    "    description='Start RB',\n",
    "    style=widgets.ButtonStyle(button_color='green'),\n",
    "    layout=widgets.Layout(width='auto', grid_area='start_rb')\n",
    ")\n",
    "\n",
    "# Button stopping the random behaviour\n",
    "RB_Stop=widgets.Button(\n",
    "    description='Stop RB',\n",
    "    style=widgets.ButtonStyle(button_color='red'),\n",
    "    layout=widgets.Layout(width='auto', grid_area='stop_rb')\n",
    ")\n",
    "\n",
    "# Button to move straight ahead\n",
    "Go_Straight=widgets.Button(\n",
    "    description='Go Straight',\n",
    "    style=widgets.ButtonStyle(button_color='white'),\n",
    "    layout=widgets.Layout(width='auto', grid_area='straight')\n",
    ")\n",
    "\n",
    "# Button to move backwards\n",
    "Go_Back=widgets.Button(\n",
    "    description='Back',\n",
    "    style=widgets.ButtonStyle(button_color='white'),\n",
    "    layout=widgets.Layout(width='auto', grid_area='back')\n",
    ")\n",
    "\n",
    "# Button to move to the left\n",
    "Go_Left=widgets.Button(\n",
    "    description='Left',\n",
    "    style=widgets.ButtonStyle(button_color='white'),\n",
    "    layout=widgets.Layout(width='auto', grid_area='left')\n",
    ")\n",
    "\n",
    "# Button to move to the right\n",
    "Go_Right=widgets.Button(\n",
    "    description='Right',\n",
    "    style=widgets.ButtonStyle(button_color='white'),\n",
    "    layout=widgets.Layout(width='auto', grid_area='right')\n",
    ")\n",
    "\n",
    "# Button to stop the robot\n",
    "Button_stop=widgets.Button(\n",
    "    description='Stop',\n",
    "    style=widgets.ButtonStyle(button_color='orange'),\n",
    "    layout=widgets.Layout(width='auto', grid_area='stop')\n",
    ")\n"
   ]
  },
  {
   "cell_type": "markdown",
   "id": "3f12f844",
   "metadata": {},
   "source": [
    "### Buttons' function association\n",
    "In this block we associate each button to the corrispondent function."
   ]
  },
  {
   "cell_type": "code",
   "execution_count": 5,
   "id": "e6983a62",
   "metadata": {},
   "outputs": [],
   "source": [
    "RB_Start.on_click(Start_RB)\n",
    "RB_Stop.on_click(Stop_RB)\n",
    "Go_Straight.on_click(Straight)\n",
    "Go_Back.on_click(Back)\n",
    "Go_Left.on_click(Left)\n",
    "Go_Right.on_click(Right)\n",
    "Button_stop.on_click(Stop)"
   ]
  },
  {
   "cell_type": "markdown",
   "id": "17a8eca9",
   "metadata": {},
   "source": [
    "### Sliders and Buttons dimension and position\n",
    "In this block we build the sliders (for the velocities) and the buttons. We also set their position on the screen in an \"immaginary\" grid."
   ]
  },
  {
   "cell_type": "code",
   "execution_count": 6,
   "id": "65b8341b",
   "metadata": {
    "scrolled": true
   },
   "outputs": [
    {
     "name": "stdout",
     "output_type": "stream",
     "text": [
      "Value of the linear velocity: \n"
     ]
    },
    {
     "data": {
      "application/vnd.jupyter.widget-view+json": {
       "model_id": "a57c81b0a5e746768f48ff1254b1e027",
       "version_major": 2,
       "version_minor": 0
      },
      "text/plain": [
       "interactive(children=(FloatSlider(value=1.0, description='vel', max=5.0), Output()), _dom_classes=('widget-int…"
      ]
     },
     "metadata": {},
     "output_type": "display_data"
    },
    {
     "name": "stdout",
     "output_type": "stream",
     "text": [
      "Value of the angular velocity:\n"
     ]
    },
    {
     "data": {
      "application/vnd.jupyter.widget-view+json": {
       "model_id": "b8e09e7803f94bf9a00906a56bc7e31b",
       "version_major": 2,
       "version_minor": 0
      },
      "text/plain": [
       "interactive(children=(FloatSlider(value=1.0, description='vel', max=5.0), Output()), _dom_classes=('widget-int…"
      ]
     },
     "metadata": {},
     "output_type": "display_data"
    },
    {
     "data": {
      "application/vnd.jupyter.widget-view+json": {
       "model_id": "56d8b512381b4d1f88b8ffdfb7e2a782",
       "version_major": 2,
       "version_minor": 0
      },
      "text/plain": [
       "GridBox(children=(Button(description='Start RB', layout=Layout(grid_area='start_rb', width='auto'), style=Butt…"
      ]
     },
     "metadata": {},
     "output_type": "display_data"
    }
   ],
   "source": [
    "# Slider to set the linear velocity\n",
    "print(\"Value of the linear velocity: \")\n",
    "interact(Set_lin_vel, vel =widgets.FloatSlider(min=0.0, max=5.0, step=0.1, value=1.0))\n",
    "\n",
    "# Slider to set the angular velocity\n",
    "print(\"Value of the angular velocity:\")\n",
    "interact(Set_ang_vel, vel =widgets.FloatSlider(min=0.0, max=5.0, step=0.1, value=1.0))\n",
    "\n",
    "# Grid for setting the buttons' position.\n",
    "widgets.GridBox(children=[RB_Start, RB_Stop, Go_Straight, Go_Back, Go_Left, Go_Right, Button_stop],\n",
    "                layout=widgets.Layout(width='100%',grid_template_rows='auto auto',\n",
    "                grid_template_columns='12% 12% 12% 12% 12% 12% ',\n",
    "                grid_template_areas='''\"start_rb . . straight . stop \"\"stop_rb . left back right .\"''')\n",
    "               )"
   ]
  },
  {
   "cell_type": "markdown",
   "id": "11a227a2",
   "metadata": {},
   "source": [
    "## Data acquisition and manipulation\n",
    "In this block all the subscribers needed to acquire data are initialized with the callback functions associated. We read the values from /cmd_vel, /destination and /odom and save them in the global variables initialized at the beginning. "
   ]
  },
  {
   "cell_type": "code",
   "execution_count": 7,
   "id": "1d231241",
   "metadata": {},
   "outputs": [
    {
     "name": "stdout",
     "output_type": "stream",
     "text": [
      "finished\n"
     ]
    }
   ],
   "source": [
    "from tf import transformations\n",
    "\n",
    "\n",
    "# I need this function to convert every angle in its [-pi, pi] form.\n",
    "def normalize_angle(angle):\n",
    "    if(math.fabs(angle) > math.pi):\n",
    "        angle = angle - (2 * math.pi * angle) / (math.fabs(angle))\n",
    "    return angle\n",
    "\n",
    "# callback function for the /odom subscriber\n",
    "def clbk_odom(msg):\n",
    "    global position_\n",
    "    global yaw_\n",
    "    global t1, elapsed_time, x, y, linear_vel, linear_speed, angular_vel, angular_speed, direction_x, direction_y\n",
    "    \n",
    "    # time interval since the launching of the script (start has been defined at the beginning)\n",
    "    elapsed_time = time.time() - start\n",
    "    \n",
    "    # we can collect a maximum of 750 samples. More samples would slow unnecessarily the application\n",
    "    # However, you can modify the integer if you want more \n",
    "    if len(t1)>750:\n",
    "        t1.pop(0)\n",
    "        x.pop(0)\n",
    "        y.pop(0)\n",
    "        linear_vel.pop(0)\n",
    "        linear_speed.pop(0)\n",
    "        angular_vel.pop(0)\n",
    "        angular_speed.pop(0)\n",
    "    \n",
    "    position_ = msg.pose.pose.position\n",
    "    velocity_ = msg.twist.twist\n",
    "\n",
    "    # save the data in the global arrays\n",
    "    t1.append(elapsed_time)\n",
    "    x.append(position_.x)\n",
    "    y.append(position_.y)\n",
    "    linear_vel.append(vel_lin)\n",
    "    angular_vel.append(vel_ang)\n",
    "    linear_speed.append(velocity_.linear.x)\n",
    "    angular_speed.append(velocity_.angular.z)\n",
    "    \n",
    "    # transformation of the orientation, as a quaternion, in eulerian angles\n",
    "    quaternion = (\n",
    "        msg.pose.pose.orientation.x,\n",
    "        msg.pose.pose.orientation.y,\n",
    "        msg.pose.pose.orientation.z,\n",
    "        msg.pose.pose.orientation.w)\n",
    "    euler = transformations.euler_from_quaternion(quaternion)\n",
    "    yaw_ = euler[2]\n",
    "\n",
    "    # normalization of the previous angle\n",
    "    norm_yaw = normalize_angle(yaw_)\n",
    "    direction_x = math.cos(norm_yaw)\n",
    "    direction_y = math.sin(norm_yaw)\n",
    "\n",
    "# callback function for the /destination subscriber\n",
    "def destination_clbk(msg):\n",
    "    \n",
    "    global reached, interrupted, t, cycles_interrupt\n",
    "   \n",
    "    # keep track of reached or interrupted goals\n",
    "    if msg.data == -1:\n",
    "        interrupted += 1\n",
    "        \n",
    "    else: \n",
    "        reached += 1\n",
    "        \n",
    "        # save the time taken to reach the goal\n",
    "        t.append(msg.data)\n",
    "    \n",
    "    cycles_interrupt = [reached, interrupted]\n",
    "\n",
    "# callback function for the /cmd_vel subscriber \n",
    "def velocity_clbk(msg):\n",
    "    global vel_lin, vel_ang\n",
    "    vel_lin = msg.linear.x\n",
    "    vel_ang = msg.angular.z\n",
    "\n",
    "\n",
    "# Subscriber initialization\n",
    "com_s = rospy.Subscriber('/cmd_vel', Twist, velocity_clbk)\n",
    "odom_s = rospy.Subscriber('/odom', Odometry, clbk_odom)\n",
    "dest_s = rospy.Subscriber('/destination', Float32, destination_clbk)\n"
   ]
  },
  {
   "cell_type": "markdown",
   "id": "9ea3f9d3",
   "metadata": {},
   "source": [
    "## PLOTS\n",
    "### Input and Actual velocities\n",
    "In this block we find the code needed to build the plot graphs for linear and angular velocities. In particular, we plot both the requested velocity by the user and the actual velocity of the robot in the simulation.\n",
    "Some notes and considerations about the code are: the linear velocities are mostly the same, a part from the beginning where there are some oscilling mismatches, except for the delay between the request and the actuation; the angular velocities, instead, differ a lot, starting from the sign (due to different interpretation of the angle between /odom and /cmd_vel). The magnitude is also different and oscillates more than the linear case."
   ]
  },
  {
   "cell_type": "code",
   "execution_count": 8,
   "id": "ad312991",
   "metadata": {},
   "outputs": [
    {
     "data": {
      "application/vnd.jupyter.widget-view+json": {
       "model_id": "7a1b8fcf825b4d669b6a9326df4e5acd",
       "version_major": 2,
       "version_minor": 0
      },
      "text/plain": [
       "Canvas(toolbar=Toolbar(toolitems=[('Home', 'Reset original view', 'home', 'home'), ('Back', 'Back to previous …"
      ]
     },
     "metadata": {},
     "output_type": "display_data"
    },
    {
     "data": {
      "application/vnd.jupyter.widget-view+json": {
       "model_id": "5ee4c217ea434baea54dc5a1720def78",
       "version_major": 2,
       "version_minor": 0
      },
      "text/plain": [
       "Canvas(toolbar=Toolbar(toolitems=[('Home', 'Reset original view', 'home', 'home'), ('Back', 'Back to previous …"
      ]
     },
     "metadata": {},
     "output_type": "display_data"
    }
   ],
   "source": [
    "# plot for the linear velocities\n",
    "fig1,axis1=plt.subplots()\n",
    "axis1.set_ylim((-5,5))\n",
    "\n",
    "linea=axis1.plot([],[],lw=1.5,color='black',label='Actual Velocity')[0]\n",
    "lineb=axis1.plot([],[],lw=1.5,color='red',label='Input Velocity')[0]\n",
    "lines1,=axis1.plot([],[], lw=1.5)\n",
    "axis1.legend()\n",
    "axis1.set_title(\"Linear Velocity\")\n",
    "axis1.set_xlabel(\"Time[s]\")\n",
    "axis1.set_ylabel(\"Nominal Value [m/s]\")\n",
    "lines1_vector=[]\n",
    "lines1_vector.append(linea)\n",
    "lines1_vector.append(lineb)\n",
    "\n",
    "# plot for the angular velocities\n",
    "fig2,axis2=plt.subplots()\n",
    "axis2.set_ylim((-5,5))\n",
    "\n",
    "linec=axis2.plot([],[],lw=1.5,color='black',label='Actual Velocity')[0]\n",
    "lined=axis2.plot([],[],lw=1.5,color='red',label='Input Velocity')[0]\n",
    "lines2,=axis2.plot([],[], lw=1.5)\n",
    "axis2.legend()\n",
    "axis2.set_title(\"Angular Velocity\")\n",
    "axis2.set_xlabel(\"Time[s]\")\n",
    "axis2.set_ylabel(\"Nominal Value [rad/s]\")\n",
    "lines2_vector=[]\n",
    "lines2_vector.append(linec)\n",
    "lines2_vector.append(lined)\n",
    "\n",
    "# plot 1 init\n",
    "def init1():\n",
    "    lines1.set_data([],[])\n",
    "\n",
    "# plot 2 init\n",
    "def init2():\n",
    "    lines2.set_data([],[])\n",
    "\n",
    "# plot 1 updating\n",
    "def anim1(b):\n",
    "    axis1.set_xlim((elapsed_time-5, elapsed_time+5))\n",
    "    vector_x = [t1, t1]\n",
    "    vector_y = [linear_speed, linear_vel]\n",
    "\n",
    "    for i,lines1 in enumerate(lines1_vector):\n",
    "        lines1.set_data(vector_x[i], vector_y[i])\n",
    "    return (lines1_vector)\n",
    "\n",
    "# plot 2 updating\n",
    "def anim2(a):\n",
    "    axis2.set_xlim((elapsed_time-5, elapsed_time+5))\n",
    "    vector_x = [t1, t1]\n",
    "    vector_y = [angular_speed, angular_vel]\n",
    "\n",
    "    for j,lines2 in enumerate(lines2_vector):\n",
    "        lines2.set_data(vector_x[j], vector_y[j])\n",
    "    return (lines2_vector)\n",
    "\n",
    "animation1=animation.FuncAnimation(fig1, anim1, init_func = init1, frames=100, interval=100, blit=True)\n",
    "animation2=animation.FuncAnimation(fig2, anim2, init_func = init2, frames=100, interval=100, blit=True)\n",
    "\n",
    "\n",
    "\n"
   ]
  },
  {
   "cell_type": "markdown",
   "id": "196716b6",
   "metadata": {},
   "source": [
    "### Goals Reached or Interrupted\n",
    "In this block we initialize the plot graph of the Reached/Interrupted goals and update it. The plotting is different from the previous case because it's a bar chart."
   ]
  },
  {
   "cell_type": "code",
   "execution_count": 9,
   "id": "13f5e226",
   "metadata": {},
   "outputs": [
    {
     "data": {
      "application/vnd.jupyter.widget-view+json": {
       "model_id": "4648e94d655a4814915f2bd85e4a3e71",
       "version_major": 2,
       "version_minor": 0
      },
      "text/plain": [
       "Canvas(toolbar=Toolbar(toolitems=[('Home', 'Reset original view', 'home', 'home'), ('Back', 'Back to previous …"
      ]
     },
     "metadata": {},
     "output_type": "display_data"
    }
   ],
   "source": [
    "# plot definition\n",
    "fig3,axis3 =  plt.subplots()\n",
    "legend = ['Reached', 'Interrupted']\n",
    "\n",
    "axis3.set_title(\"Reached and Interrupted goal\")\n",
    "\n",
    "#plot init\n",
    "def init3():\n",
    "    axis3.bar(legend,cycles_interrupt,color = 'blue', width = 0.6)\n",
    "\n",
    "#plot updating\n",
    "def anim3(i):\n",
    "    global axis3\n",
    "    axis3.bar(legend,cycles_interrupt,color = 'blue', width = 0.6)\n",
    "\n",
    "animation3=animation.FuncAnimation(fig3, anim3, init_func=init3, frames=100, interval=100, blit=True)\n"
   ]
  },
  {
   "cell_type": "markdown",
   "id": "72e5d5b1",
   "metadata": {},
   "source": [
    "### Time Reaching\n",
    "In this block we plot the time to reach each goal, using a histogram. On the X axis we put the time while on the Y axis we put the number of goals reached."
   ]
  },
  {
   "cell_type": "code",
   "execution_count": 10,
   "id": "9f39410c",
   "metadata": {},
   "outputs": [
    {
     "data": {
      "application/vnd.jupyter.widget-view+json": {
       "model_id": "b937515e38d844e8bec15fa67b0f3227",
       "version_major": 2,
       "version_minor": 0
      },
      "text/plain": [
       "Canvas(toolbar=Toolbar(toolitems=[('Home', 'Reset original view', 'home', 'home'), ('Back', 'Back to previous …"
      ]
     },
     "metadata": {},
     "output_type": "display_data"
    }
   ],
   "source": [
    "fig4,axis4 = plt.subplots()\n",
    "\n",
    "axis4.legend()\n",
    "axis4.set_title(\"Time passed before the goal reachment\")\n",
    "axis4.set_xlabel(\"Time[s]\")\n",
    "\n",
    "def init4():\n",
    "    axis4.hist(t, 10, label='Time to reach the goal', color='blue', lw=10)\n",
    "\n",
    "def anim4(i):\n",
    "    global t, axis4\n",
    "    axis4.hist(t, 10, label='Time to reach the goal', color='blue', lw=10)\n",
    "    \n",
    "animation4 = animation.FuncAnimation(fig4, anim4, init_func=init4, frames=100, interval=100, blit=True)\n"
   ]
  },
  {
   "cell_type": "markdown",
   "id": "3c07f9cf",
   "metadata": {},
   "source": [
    "### Position and Orientation of the robot\n",
    "In this block we plot the position and orientation of the robot. The position is the track formed by the last 750 positions taken (remember we set this value some blocks before, to avoid slowing the program). The orientation is represented by an arrow."
   ]
  },
  {
   "cell_type": "code",
   "execution_count": 11,
   "id": "542818c0",
   "metadata": {},
   "outputs": [
    {
     "data": {
      "application/vnd.jupyter.widget-view+json": {
       "model_id": "60b00c72152145fdb32fbc6420391623",
       "version_major": 2,
       "version_minor": 0
      },
      "text/plain": [
       "Canvas(toolbar=Toolbar(toolitems=[('Home', 'Reset original view', 'home', 'home'), ('Back', 'Back to previous …"
      ]
     },
     "metadata": {},
     "output_type": "display_data"
    },
    {
     "data": {
      "application/vnd.jupyter.widget-view+json": {
       "model_id": "fead75f3f0ce44ea8a31dbeeec699969",
       "version_major": 2,
       "version_minor": 0
      },
      "text/plain": [
       "Canvas(toolbar=Toolbar(toolitems=[('Home', 'Reset original view', 'home', 'home'), ('Back', 'Back to previous …"
      ]
     },
     "metadata": {},
     "output_type": "display_data"
    }
   ],
   "source": [
    "# defining both plots. Two are needed as i have to clear the orientation arrow with every iteration but I want to have the trajectory plotted to have less computations.\n",
    "fig5,axis5 = plt.subplots()\n",
    "fig6,axis6 = plt.subplots()\n",
    "\n",
    "axis5.set_xlim((-10,10))\n",
    "axis5.set_ylim((-10,10))\n",
    "linee,=axis5.plot([],[], lw=1.5, color='green', label='Position')\n",
    "axis5.legend()\n",
    "axis5.set_title(\"Pos\")\n",
    "\n",
    "\n",
    "# Position plot initialization\n",
    "def init5():\n",
    "    linee.set_data([],[])\n",
    "\n",
    "# Orientation plot initialization\n",
    "def init6():\n",
    "    axis6.quiver(0,0,direction_x,direction_y,label=\"Orientation\")\n",
    "\n",
    "# Position plot update\n",
    "def anim5(i):\n",
    "    global x, y\n",
    "    linee.set_data(x,y)\n",
    "    return (linee)\n",
    "\n",
    "# Orientation plot update\n",
    "def anim6(i):\n",
    "    axis6.clear()\n",
    "    axis6.quiver(0,0,direction_x,direction_y,label=\"Orientation\")\n",
    "    axis6.legend()\n",
    "    axis6.set_title(\"Orien\")\n",
    "    return(linee)\n",
    "\n",
    "animation5 = animation.FuncAnimation(fig5, anim5, init_func=init5, frames=100, interval=100, blit=True)\n",
    "animation6 = animation.FuncAnimation(fig6, anim6, init_func=init6, frames=1, interval=100, blit=True)"
   ]
  },
  {
   "cell_type": "code",
   "execution_count": 18,
   "id": "52bbbfa9",
   "metadata": {},
   "outputs": [
    {
     "name": "stdout",
     "output_type": "stream",
     "text": [
      "[0, 0]\n"
     ]
    }
   ],
   "source": [
    "print(cycles_interrupt)"
   ]
  },
  {
   "cell_type": "code",
   "execution_count": 18,
   "id": "e166335a",
   "metadata": {},
   "outputs": [
    {
     "name": "stdout",
     "output_type": "stream",
     "text": [
      "[0, 0]\n"
     ]
    }
   ],
   "source": []
  },
  {
   "cell_type": "code",
   "execution_count": null,
   "id": "9562a0a9",
   "metadata": {},
   "outputs": [],
   "source": []
  }
 ],
 "metadata": {
  "kernelspec": {
   "display_name": "Python 3 (ipykernel)",
   "language": "python",
   "name": "python3"
  },
  "language_info": {
   "codemirror_mode": {
    "name": "ipython",
    "version": 3
   },
   "file_extension": ".py",
   "mimetype": "text/x-python",
   "name": "python",
   "nbconvert_exporter": "python",
   "pygments_lexer": "ipython3",
   "version": "3.8.5"
  },
  "vscode": {
   "interpreter": {
    "hash": "916dbcbb3f70747c44a77c7bcd40155683ae19c65e1c03b4aa3499c5328201f1"
   }
  }
 },
 "nbformat": 4,
 "nbformat_minor": 5
}
